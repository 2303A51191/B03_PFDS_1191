{
  "nbformat": 4,
  "nbformat_minor": 0,
  "metadata": {
    "colab": {
      "provenance": [],
      "authorship_tag": "ABX9TyPptE1HpdVM2bNWWXhko52Z",
      "include_colab_link": true
    },
    "kernelspec": {
      "name": "python3",
      "display_name": "Python 3"
    },
    "language_info": {
      "name": "python"
    }
  },
  "cells": [
    {
      "cell_type": "markdown",
      "metadata": {
        "id": "view-in-github",
        "colab_type": "text"
      },
      "source": [
        "<a href=\"https://colab.research.google.com/github/2303A51191/B03_PFDS_1191/blob/main/python_lab_03.ipynb\" target=\"_parent\"><img src=\"https://colab.research.google.com/assets/colab-badge.svg\" alt=\"Open In Colab\"/></a>"
      ]
    },
    {
      "cell_type": "code",
      "execution_count": 11,
      "metadata": {
        "id": "f2MI9SyErYfU",
        "colab": {
          "base_uri": "https://localhost:8080/"
        },
        "outputId": "b9f589b2-6ffd-40cf-ed85-67aee4ad9edc"
      },
      "outputs": [
        {
          "output_type": "stream",
          "name": "stdout",
          "text": [
            "Matrix A:\n",
            " [[7 4 9]\n",
            " [3 6 4]\n",
            " [5 8 7]]\n",
            "Matrix B:\n",
            " [[9 9 2]\n",
            " [6 5 6]\n",
            " [7 9 2]]\n",
            "Addition:\n",
            " [[16 13 11]\n",
            " [ 9 11 10]\n",
            " [12 17  9]]\n",
            "Subtraction:\n",
            " [[-2 -5  7]\n",
            " [-3  1 -2]\n",
            " [-2 -1  5]]\n"
          ]
        }
      ],
      "source": [
        "# 1 problem\n",
        "import numpy as np\n",
        "\n",
        "a = np.random.randint(1, 10, (3, 3))\n",
        "b = np.random.randint(1, 10, (3, 3))\n",
        "\n",
        "add = np.add(a, b)\n",
        "sub = np.subtract(a, b)\n",
        "\n",
        "print(\"Matrix A:\\n\", a)\n",
        "print(\"Matrix B:\\n\", b)\n",
        "print(\"Addition:\\n\", add)\n",
        "print(\"Subtraction:\\n\", sub)"
      ]
    },
    {
      "cell_type": "code",
      "source": [
        "# 2 problem\n",
        "import numpy as np\n",
        "import matplotlib.pyplot as plt\n",
        "\n",
        "a = np.random.randint(1, 5, (3, 2))\n",
        "b = np.random.randint(1, 5, (2, 3))\n",
        "c = np.dot(a, b)\n",
        "\n",
        "print(\"Matrix A:\\n\", a)\n",
        "print(\"Matrix B:\\n\", b)\n",
        "print(\"Dot Product:\\n\", c)\n",
        "\n",
        "\n",
        "plt.figure(figsize=(8, 3))\n",
        "\n",
        "plt.subplot(1, 3, 1)\n",
        "plt.imshow(a, cmap='viridis', interpolation='nearest')\n",
        "plt.title(\"Matrix A\")\n",
        "plt.colorbar()\n",
        "\n",
        "plt.subplot(1, 3, 2)\n",
        "plt.imshow(b, cmap='viridis', interpolation='nearest')\n",
        "plt.title(\"Matrix B\")\n",
        "plt.colorbar()\n",
        "\n",
        "plt.subplot(1, 3, 3)\n",
        "plt.imshow(c, cmap='viridis', interpolation='nearest')\n",
        "plt.title(\"Dot Product\")\n",
        "plt.colorbar()\n",
        "\n",
        "plt.tight_layout()\n",
        "plt.show()"
      ],
      "metadata": {
        "colab": {
          "base_uri": "https://localhost:8080/",
          "height": 518
        },
        "id": "4yB3FWcyQo2t",
        "outputId": "1770108a-44e1-4c52-99db-e0650d2eb942"
      },
      "execution_count": 12,
      "outputs": [
        {
          "output_type": "stream",
          "name": "stdout",
          "text": [
            "Matrix A:\n",
            " [[1 4]\n",
            " [1 1]\n",
            " [3 1]]\n",
            "Matrix B:\n",
            " [[3 3 2]\n",
            " [4 1 4]]\n",
            "Dot Product:\n",
            " [[19  7 18]\n",
            " [ 7  4  6]\n",
            " [13 10 10]]\n"
          ]
        },
        {
          "output_type": "display_data",
          "data": {
            "text/plain": [
              "<Figure size 800x300 with 6 Axes>"
            ],
            "image/png": "[encoded data removed]"
          },
          "metadata": {}
        }
      ]
    },
    {
      "cell_type": "code",
      "source": [
        "#ClassRoom_Files\n",
        "import csv\n",
        "\n",
        "with open(\"Classroom_file.csv\", 'w', newline='') as fp:\n",
        "    wr = csv.writer(fp)\n",
        "    wr.writerow([\"Name\", \"Marks\"])\n",
        "    for i in range(2):\n",
        "        name = input(\"Enter name: \")\n",
        "        marks = int(input(\"Enter marks: \"))\n",
        "        wr.writerow([name, marks])"
      ],
      "metadata": {
        "colab": {
          "base_uri": "https://localhost:8080/"
        },
        "id": "3HxrDrehQvv0",
        "outputId": "32085b24-6901-4d8c-950b-348f5d84ed33"
      },
      "execution_count": 14,
      "outputs": [
        {
          "name": "stdout",
          "output_type": "stream",
          "text": [
            "Enter name: sri\n",
            "Enter marks: 88\n",
            "Enter name: ram\n",
            "Enter marks: 99\n"
          ]
        }
      ]
    }
  ]
}