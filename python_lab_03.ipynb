{
  "nbformat": 4,
  "nbformat_minor": 0,
  "metadata": {
    "colab": {
      "provenance": [],
      "authorship_tag": "ABX9TyP+6Id5K6ItVuMLL0Vqimn9",
      "include_colab_link": true
    },
    "kernelspec": {
      "name": "python3",
      "display_name": "Python 3"
    },
    "language_info": {
      "name": "python"
    }
  },
  "cells": [
    {
      "cell_type": "markdown",
      "metadata": {
        "id": "view-in-github",
        "colab_type": "text"
      },
      "source": [
        "<a href=\"https://colab.research.google.com/github/2303A51191/B03_PFDS_1191/blob/main/python_lab_03.ipynb\" target=\"_parent\"><img src=\"https://colab.research.google.com/assets/colab-badge.svg\" alt=\"Open In Colab\"/></a>"
      ]
    },
    {
      "cell_type": "code",
      "execution_count": 10,
      "metadata": {
        "id": "f2MI9SyErYfU",
        "colab": {
          "base_uri": "https://localhost:8080/"
        },
        "outputId": "6ea38dc6-c9a0-4465-d492-cad3d6886070"
      },
      "outputs": [
        {
          "output_type": "stream",
          "name": "stdout",
          "text": [
            "Hello World welcome to the python class\n",
            "Hello World welcome to the python class 2\n",
            "Hello World welcome to the python class 3\n",
            " .....good morning\n",
            " .....good afternoon\n",
            " .....good evening\n",
            "\n",
            "first line: Hello World welcome to the python class\n",
            "\n",
            "reading all lines: ['Hello World welcome to the python class 2\\n', 'Hello World welcome to the python class 3\\n', ' .....good morning\\n', ' .....good afternoon\\n', ' .....good evening\\n']\n",
            "This is the first line of the second file.\n",
            "This is the second line.\n",
            "\n"
          ]
        }
      ],
      "source": [
        "f = open(\"file.txt\", \"w\")\n",
        "f.write(\"Hello World welcome to the python class\\n\")\n",
        "f.write(\"Hello World welcome to the python class 2\\n\")\n",
        "f.write(\"Hello World welcome to the python class 3\\n\")\n",
        "f.close()\n",
        "f = open(\"file.txt\", \"a\")\n",
        "f.write(\" .....good morning\\n\")\n",
        "f.write(\" .....good afternoon\\n\")\n",
        "f.write(\" .....good evening\\n\")\n",
        "f.close()\n",
        "f = open(\"file.txt\", \"r\")\n",
        "print(f.read())\n",
        "# After reading the entire file, the file pointer is at the end.\n",
        "# To read lines again, you need to move the file pointer back to the beginning.\n",
        "f.seek(0)\n",
        "line1=f.readline()\n",
        "print(\"first line:\",line1)\n",
        "lines=f.readlines()\n",
        "print(\"reading all lines:\",lines)\n",
        "f.close()\n",
        "\n",
        "# Create and write to second.txt\n",
        "with open(\"second .txt\", \"w\") as fp:\n",
        "    fp.write(\"This is the first line of the second file.\\n\")\n",
        "    fp.write(\"This is the second line.\\n\")\n",
        "\n",
        "# Now open and read from second.txt\n",
        "with open(\"second .txt\", \"r\") as fp:\n",
        "    data = fp.read()\n",
        "    print(data)"
      ]
    }
  ]
}