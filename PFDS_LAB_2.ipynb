{
  "nbformat": 4,
  "nbformat_minor": 0,
  "metadata": {
    "colab": {
      "provenance": [],
      "authorship_tag": "ABX9TyMOoC0Q2qlyCgU9MvEvR1f6",
      "include_colab_link": true
    },
    "kernelspec": {
      "name": "python3",
      "display_name": "Python 3"
    },
    "language_info": {
      "name": "python"
    }
  },
  "cells": [
    {
      "cell_type": "markdown",
      "metadata": {
        "id": "view-in-github",
        "colab_type": "text"
      },
      "source": [
        "<a href=\"https://colab.research.google.com/github/2303A51191/B03_PFDS_1191/blob/main/PFDS_LAB_2.ipynb\" target=\"_parent\"><img src=\"https://colab.research.google.com/assets/colab-badge.svg\" alt=\"Open In Colab\"/></a>"
      ]
    },
    {
      "cell_type": "code",
      "execution_count": 1,
      "metadata": {
        "colab": {
          "base_uri": "https://localhost:8080/"
        },
        "id": "8YYveHEXGnSw",
        "outputId": "15f7784b-5a1d-408f-9515-52625216bcbc"
      },
      "outputs": [
        {
          "output_type": "stream",
          "name": "stdout",
          "text": [
            "All Marks:\n",
            " [[85 78 92]\n",
            " [76 88 81]\n",
            " [90 94 89]\n",
            " [65 70 72]\n",
            " [88 91 85]]\n"
          ]
        }
      ],
      "source": [
        "import numpy as np\n",
        "\n",
        "a = np.array([\n",
        "    [85, 78, 92],\n",
        "    [76, 88, 81],\n",
        "    [90, 94, 89],\n",
        "    [65, 70, 72],\n",
        "    [88, 91, 85]\n",
        "])\n",
        "\n",
        "print(\"All Marks:\\n\", a)\n"
      ]
    },
    {
      "cell_type": "code",
      "source": [
        "b = np.mean(a, axis=1)\n",
        "c = np.min(a, axis=1)\n",
        "d = np.max(a, axis=1)\n",
        "\n",
        "print(\"\\nAverage Marks:\", b)\n",
        "print(\"Minimum Marks:\", c)\n",
        "print(\"Maximum Marks:\", d)"
      ],
      "metadata": {
        "colab": {
          "base_uri": "https://localhost:8080/"
        },
        "id": "vRDmtL6xG8Eu",
        "outputId": "f5b10ded-e249-4e26-c8c1-0c13aafd5d4c"
      },
      "execution_count": 2,
      "outputs": [
        {
          "output_type": "stream",
          "name": "stdout",
          "text": [
            "\n",
            "Average Marks: [85.         81.66666667 91.         69.         88.        ]\n",
            "Minimum Marks: [78 76 89 65 85]\n",
            "Maximum Marks: [92 88 94 72 91]\n"
          ]
        }
      ]
    },
    {
      "cell_type": "code",
      "source": [
        "e = a[[0, 2]]\n",
        "print(\"\\nMarks of Student 1 and 3:\\n\", e)"
      ],
      "metadata": {
        "colab": {
          "base_uri": "https://localhost:8080/"
        },
        "id": "tysvMuJmHAd8",
        "outputId": "22bd80d3-ca2b-4b7f-9bab-1f33a173c539"
      },
      "execution_count": 3,
      "outputs": [
        {
          "output_type": "stream",
          "name": "stdout",
          "text": [
            "\n",
            "Marks of Student 1 and 3:\n",
            " [[85 78 92]\n",
            " [90 94 89]]\n"
          ]
        }
      ]
    },
    {
      "cell_type": "code",
      "source": [
        "f = np.any(a > 80, axis=1)\n",
        "g = a[f]\n",
        "\n",
        "print(\"\\nStudents scoring above 80 in any subject:\\n\", g)"
      ],
      "metadata": {
        "colab": {
          "base_uri": "https://localhost:8080/"
        },
        "id": "0PHZNYSZHG65",
        "outputId": "dbd536d2-5b4f-4e0e-a35e-965e805b226c"
      },
      "execution_count": 4,
      "outputs": [
        {
          "output_type": "stream",
          "name": "stdout",
          "text": [
            "\n",
            "Students scoring above 80 in any subject:\n",
            " [[85 78 92]\n",
            " [76 88 81]\n",
            " [90 94 89]\n",
            " [88 91 85]]\n"
          ]
        }
      ]
    },
    {
      "cell_type": "code",
      "source": [
        "h = a.T\n",
        "print(\"\\nSubject-wise Marks:\\n\", h)"
      ],
      "metadata": {
        "colab": {
          "base_uri": "https://localhost:8080/"
        },
        "id": "CUIISqynHQnf",
        "outputId": "3875f10d-0edd-45dd-de46-d41ab94d196f"
      },
      "execution_count": 5,
      "outputs": [
        {
          "output_type": "stream",
          "name": "stdout",
          "text": [
            "\n",
            "Subject-wise Marks:\n",
            " [[85 76 90 65 88]\n",
            " [78 88 94 70 91]\n",
            " [92 81 89 72 85]]\n"
          ]
        }
      ]
    },
    {
      "cell_type": "code",
      "source": [
        "print(\"\\nAnalysis:\")\n",
        "print(\"• Student 3 has top marks overall.\")\n",
        "print(\"• Student 4 has lowest average.\")\n",
        "print(\"• Subject 2 has generally high scores.\")\n",
        "print(\"• Many students scored above 80 in at least one subject.\")"
      ],
      "metadata": {
        "colab": {
          "base_uri": "https://localhost:8080/"
        },
        "id": "WxPtM-JXHXJK",
        "outputId": "351f8572-96c5-4480-ac5a-7fc23bfccc2a"
      },
      "execution_count": 6,
      "outputs": [
        {
          "output_type": "stream",
          "name": "stdout",
          "text": [
            "\n",
            "Analysis:\n",
            "• Student 3 has top marks overall.\n",
            "• Student 4 has lowest average.\n",
            "• Subject 2 has generally high scores.\n",
            "• Many students scored above 80 in at least one subject.\n"
          ]
        }
      ]
    }
  ]
}